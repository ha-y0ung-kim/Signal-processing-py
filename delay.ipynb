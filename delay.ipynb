{
 "metadata": {
  "language_info": {
   "codemirror_mode": {
    "name": "ipython",
    "version": 3
   },
   "file_extension": ".py",
   "mimetype": "text/x-python",
   "name": "python",
   "nbconvert_exporter": "python",
   "pygments_lexer": "ipython3",
   "version": "3.8.5"
  },
  "orig_nbformat": 2,
  "kernelspec": {
   "name": "python3",
   "display_name": "Python 3",
   "language": "python"
  }
 },
 "nbformat": 4,
 "nbformat_minor": 2,
 "cells": [
  {
   "cell_type": "code",
   "execution_count": 1,
   "metadata": {},
   "outputs": [],
   "source": [
    "import math\n",
    "import numpy as np\n",
    "import matplotlib.pyplot as plt\n",
    "import plotly.express as px\n",
    "import plotly.graph_objects as go\n",
    "\n",
    "from ipywidgets import interact\n",
    "import ipywidgets as widgets"
   ]
  },
  {
   "cell_type": "code",
   "execution_count": 2,
   "metadata": {},
   "outputs": [],
   "source": [
    "class BufferState(object):\n",
    "    def __init__(self, Nmax, N):\n",
    "        \"\"\"\n",
    "        Initialize Delay Block and Buffer state\n",
    "        Nmax : Maximum delay possible\n",
    "        N : Delay\n",
    "        \"\"\"\n",
    "\n",
    "        M = 2**(math.ceil(np.log2(Nmax))+1)\n",
    "        # Size of buffer, closest power of 2 that is at least 2 * Nmax\n",
    "\n",
    "        Mmask = M-1\n",
    "        # Masking value, for (mod M) opperation using bitand\n",
    "\n",
    "        buff = np.zeros(M)        \n",
    "        # Circular buffer\n",
    "\n",
    "        self.Nmax = Nmax\n",
    "        self.N = N\n",
    "        self.M = M\n",
    "        self.Mmask = Mmask\n",
    "        self.buff = buff\n",
    "        self.n_h = 0    # head of buffer\n",
    "        self.n_t = N-1  # tail of buffer\n",
    "\n",
    "    def delay(self, x):\n",
    "        \"\"\"\n",
    "        Delays a signal by the specified number(state_in.N) of samples \n",
    "        state_in : input state\n",
    "        x : input samples\n",
    "        \"\"\"\n",
    "        if x.size > self.M:\n",
    "            print(\"error: input bigger than buffer size\")\n",
    "\n",
    "        for i in range (x.size):\n",
    "            #store a sample\n",
    "            self.buff[self.n_t] = x[i]\n",
    "            #increment tail index(circular)\n",
    "            self.n_t = (self.n_t+1) & self.Mmask # s.n_t+1 % M\n",
    "        \n",
    "        # Get samples out of head to output\n",
    "        y = np.zeros(x.size)  #output buffer of sample\n",
    "        for i in range (y.size):\n",
    "            #get a sample\n",
    "            y[i] = self.buff[self.n_h]\n",
    "            #increment head index\n",
    "            self.n_h = (self.n_h+1) & self.Mmask # s.n_h+1 % M\n",
    "        return y"
   ]
  },
  {
   "cell_type": "code",
   "execution_count": 5,
   "metadata": {},
   "outputs": [
    {
     "output_type": "display_data",
     "data": {
      "text/plain": "interactive(children=(IntSlider(value=10, description='delay', step=5), Output()), _dom_classes=('widget-inter…",
      "application/vnd.jupyter.widget-view+json": {
       "version_major": 2,
       "version_minor": 0,
       "model_id": "3b762d71776444c796e312e78f337f3d"
      }
     },
     "metadata": {}
    },
    {
     "output_type": "display_data",
     "data": {
      "text/plain": "FigureWidget({\n    'data': [{'name': 'delayed signal',\n              'type': 'scatter',\n              'uid': '…",
      "application/vnd.jupyter.widget-view+json": {
       "version_major": 2,
       "version_minor": 0,
       "model_id": "821ce85de3bd4ce7bb87c69cf7727f0e"
      }
     },
     "metadata": {}
    }
   ],
   "source": [
    "#Testing delay block\n",
    "\n",
    "# Fixed variables\n",
    "Nb = 10 #number of buffers\n",
    "Ns = 128 # samples in each buffer\n",
    "Nmax = 200 # maximum delay\n",
    "\n",
    "\n",
    "# generate random input samples / input signal\n",
    "x = np.random.randn(Nb*Ns)\n",
    "\n",
    "# reshape into buffers\n",
    "xb = np.reshape(x, (Nb,Ns))\n",
    "\n",
    "#Graph inital settings\n",
    "n = np.arange(x.size).reshape((Nb*Ns)) # discrete time axis for graph\n",
    "fig = go.FigureWidget()\n",
    "fig.add_scatter(x = n, name = \"delayed signal\")\n",
    "fig.add_scatter(x = n, y = x, name = \"original signal\")\n",
    "fig.update_xaxes(title_text='n')\n",
    "fig.update_yaxes(title_text='signal')\n",
    "\n",
    "@interact(delay = (0,100,5))\n",
    "\n",
    "def update(delay = 10):\n",
    "    #Initialize the delay block\n",
    "    state_delay1 = BufferState(Nmax, delay)\n",
    "\n",
    "    # output samples\n",
    "    yb = np.zeros((Nb, Ns))\n",
    "\n",
    "    #process each buffer\n",
    "    for i in range(Nb):\n",
    "        yb[i] = state_delay1.delay(xb[i])\n",
    "    y = np.reshape(yb, (Nb*Ns))\n",
    "\n",
    "    with fig.batch_update():\n",
    "        fig.data[0].y = y\n",
    "fig"
   ]
  },
  {
   "cell_type": "code",
   "execution_count": 4,
   "metadata": {},
   "outputs": [
    {
     "output_type": "display_data",
     "data": {
      "text/plain": "interactive(children=(IntSlider(value=10, description='delay1', step=5), IntSlider(value=10, description='dela…",
      "application/vnd.jupyter.widget-view+json": {
       "version_major": 2,
       "version_minor": 0,
       "model_id": "8bfb7fd01585426e9055057c23c2e0d0"
      }
     },
     "metadata": {}
    },
    {
     "output_type": "display_data",
     "data": {
      "text/plain": "FigureWidget({\n    'data': [{'name': 'original signal',\n              'type': 'scatter',\n              'uid': …",
      "application/vnd.jupyter.widget-view+json": {
       "version_major": 2,
       "version_minor": 0,
       "model_id": "20e4744d72cd49bb8afd0301eeb38f81"
      }
     },
     "metadata": {}
    }
   ],
   "source": [
    "#Cascading two delay block\n",
    "\n",
    "# Fixed variables\n",
    "Nb = 10 #number of buffers\n",
    "Ns = 128 # samples in each buffer\n",
    "Nmax = 200 # maximum delay\n",
    "\n",
    "\n",
    "# generate random input samples / input signal\n",
    "x = np.random.randn(Nb*Ns)\n",
    "\n",
    "# reshape into buffers\n",
    "xb = np.reshape(x, (Nb,Ns))\n",
    "\n",
    "#Graph inital settings\n",
    "n = np.arange(x.size).reshape((Nb*Ns)) # discrete time axis for graph\n",
    "fig = go.FigureWidget()\n",
    "fig.add_scatter(x = n, y = x, name = \"original signal\")\n",
    "fig.add_scatter(x = n, name = \"1st delayed signal\")\n",
    "fig.add_scatter(x = n, name = \"2nd delayed signal\")\n",
    "fig.update_xaxes(title_text='n')\n",
    "fig.update_yaxes(title_text='signal')\n",
    "\n",
    "@interact(delay1 = (0,100,5), delay2=(0,100,5))\n",
    "\n",
    "def update(delay1 = 10, delay2 = 10):\n",
    "    #Initialize the delay block\n",
    "    state_delay1 = BufferState(Nmax, delay1)\n",
    "    state_delay2 = BufferState(Nmax, delay2)\n",
    "\n",
    "    # output samples\n",
    "    yb1 = np.zeros((Nb, Ns))\n",
    "    yb2 = np.zeros((Nb, Ns))\n",
    "\n",
    "    #process each buffer\n",
    "    for i in range(Nb):\n",
    "        yb1[i] = state_delay1.delay(xb[i])\n",
    "        yb2[i] = state_delay2.delay(yb1[i])\n",
    "    y1 = np.reshape(yb1, (Nb*Ns))\n",
    "    y2 = np.reshape(yb2, (Nb*Ns))\n",
    "\n",
    "    with fig.batch_update():\n",
    "        fig.data[1].y = y1\n",
    "        fig.data[2].y = y2\n",
    "fig"
   ]
  }
 ]
}
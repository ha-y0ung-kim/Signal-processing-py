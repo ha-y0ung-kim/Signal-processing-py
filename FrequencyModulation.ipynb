{
 "metadata": {
  "language_info": {
   "codemirror_mode": {
    "name": "ipython",
    "version": 3
   },
   "file_extension": ".py",
   "mimetype": "text/x-python",
   "name": "python",
   "nbconvert_exporter": "python",
   "pygments_lexer": "ipython3",
   "version": "3.8.5"
  },
  "orig_nbformat": 2,
  "kernelspec": {
   "name": "python3",
   "display_name": "Python 3",
   "language": "python"
  }
 },
 "nbformat": 4,
 "nbformat_minor": 2,
 "cells": [
  {
   "cell_type": "code",
   "execution_count": 1,
   "metadata": {},
   "outputs": [],
   "source": [
    "import math\n",
    "import numpy as np\n",
    "import matplotlib.pyplot as plt\n",
    "import plotly.graph_objects as go\n",
    "from plotly.subplots import make_subplots\n",
    "\n",
    "from commpy.filters import rcosfilter\n",
    "from scipy import signal\n",
    "from scipy.fft import fft, fftfreq\n",
    "\n",
    "from ipywidgets import interact\n",
    "import ipywidgets as widgets"
   ]
  },
  {
   "cell_type": "code",
   "execution_count": 2,
   "metadata": {},
   "outputs": [
    {
     "output_type": "display_data",
     "data": {
      "text/plain": "FigureWidget({\n    'data': [{'type': 'scatter',\n              'uid': 'c9506ffe-26a2-4464-8ca4-447bb96e6c30',\n …",
      "application/vnd.jupyter.widget-view+json": {
       "version_major": 2,
       "version_minor": 0,
       "model_id": "5d9cede382f1462fbee54777e3b7175b"
      }
     },
     "metadata": {}
    }
   ],
   "source": [
    "# Signal seetting \n",
    "\n",
    "# Carrier setting\n",
    "fc = 40*10**3\n",
    "Ac = 2.5\n",
    "\n",
    "fm = 5*10**3 #modulation frequency / message signal\n",
    "\n",
    "fs = 2**(math.ceil(np.log2(fc))+2)\n",
    "t = np.linspace(0,1,fs)\n",
    "f = fftfreq(fs, 1/fs)\n",
    "\n",
    "bf = [0.2,1,2]\n",
    "y = []\n",
    "y_f = []\n",
    "\n",
    "fig = make_subplots(rows = 1, cols = 3, subplot_titles = (\"0.2\", \"1\", \"2\"))\n",
    "\n",
    "for i in range(3):\n",
    "    y.append(Ac * np.cos(2*np.pi*fc*t + bf[i]*np.sin(2*np.pi*fm*t)))\n",
    "    y_f.append(abs(fft(y[i])/y[i].size))\n",
    "    fig.add_scatter(x = f[:fs//2], y = y_f[i][:fs//2], row = 1, col = i+1)\n",
    "    fig.update_xaxes(range=[10000,70000], row =1, col = i+1)\n",
    "\n",
    "figw = go.FigureWidget(fig)\n",
    "figw\n"
   ]
  },
  {
   "cell_type": "code",
   "execution_count": null,
   "metadata": {},
   "outputs": [],
   "source": []
  }
 ]
}
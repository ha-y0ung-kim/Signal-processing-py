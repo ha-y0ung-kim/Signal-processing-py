{
 "metadata": {
  "language_info": {
   "codemirror_mode": {
    "name": "ipython",
    "version": 3
   },
   "file_extension": ".py",
   "mimetype": "text/x-python",
   "name": "python",
   "nbconvert_exporter": "python",
   "pygments_lexer": "ipython3",
   "version": 3
  },
  "orig_nbformat": 2
 },
 "nbformat": 4,
 "nbformat_minor": 2,
 "cells": [
  {
   "cell_type": "code",
   "execution_count": null,
   "metadata": {},
   "outputs": [],
   "source": [
    "import math\n",
    "import numpy as np\n",
    "import matplotlib.pyplot as plt\n",
    "import plotly.express as px\n",
    "import plotly.graph_objects as go\n",
    "\n",
    "from ipywidgets import interact\n",
    "import ipywidgets as widgets"
   ]
  },
  {
   "source": [
    "$$ x(t) = e^{jw_0t}$$"
   ],
   "cell_type": "markdown",
   "metadata": {}
  },
  {
   "cell_type": "code",
   "execution_count": null,
   "metadata": {},
   "outputs": [],
   "source": [
    "# continouous time\n",
    "t = np.arange(-10,10,0.01)\n",
    "\n",
    "\n",
    "#Graph inital settings\n",
    "fig = go.FigureWidget()\n",
    "fig.add_scatter(x = n)\n",
    "#fig.add_scatter(x = n, y = x, name = \"original signal\")\n",
    "#fig.update_xaxes(title_text='n')\n",
    "#fig.update_yaxes(title_text='signal')\n",
    "\n",
    "@interact(w0 = (1,10,1))\n",
    "\n",
    "def update(wo = 1):\n",
    "    y = C*np.exp**(1j*w0*t)\n",
    "    with fig.batch_update():\n",
    "        fig.data[0].y = y\n",
    "fig"
   ]
  },
  {
   "cell_type": "code",
   "execution_count": null,
   "metadata": {},
   "outputs": [],
   "source": []
  }
 ]
}
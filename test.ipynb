{
 "metadata": {
  "language_info": {
   "codemirror_mode": {
    "name": "ipython",
    "version": 3
   },
   "file_extension": ".py",
   "mimetype": "text/x-python",
   "name": "python",
   "nbconvert_exporter": "python",
   "pygments_lexer": "ipython3",
   "version": "3.8.5"
  },
  "orig_nbformat": 2,
  "kernelspec": {
   "name": "python3",
   "display_name": "Python 3",
   "language": "python"
  }
 },
 "nbformat": 4,
 "nbformat_minor": 2,
 "cells": [
  {
   "source": [
    "$$ x(t) = e^{jw_0t}$$"
   ],
   "cell_type": "markdown",
   "metadata": {}
  },
  {
   "cell_type": "code",
   "execution_count": 19,
   "metadata": {},
   "outputs": [],
   "source": [
    "import math\n",
    "import numpy as np\n",
    "import matplotlib.pyplot as plt\n",
    "import plotly.express as px\n",
    "import plotly.graph_objects as go\n",
    "\n",
    "from ipywidgets import interact\n",
    "import ipywidgets as widgets"
   ]
  },
  {
   "cell_type": "code",
   "execution_count": 23,
   "metadata": {},
   "outputs": [
    {
     "output_type": "display_data",
     "data": {
      "text/plain": "interactive(children=(IntSlider(value=1, description='w0', max=1000, min=1), Output()), _dom_classes=('widget-…",
      "application/vnd.jupyter.widget-view+json": {
       "version_major": 2,
       "version_minor": 0,
       "model_id": "4d9579dd50c140b99d092c17f7c45770"
      }
     },
     "metadata": {}
    },
    {
     "output_type": "display_data",
     "data": {
      "text/plain": "FigureWidget({\n    'data': [{'type': 'scatter',\n              'uid': '2ebcb8ec-1a90-4fb6-9a10-a33093b65311',\n …",
      "application/vnd.jupyter.widget-view+json": {
       "version_major": 2,
       "version_minor": 0,
       "model_id": "967d4c360aa64bc5b5536510818bf868"
      }
     },
     "metadata": {}
    }
   ],
   "source": [
    "# continouous time\n",
    "t = np.arange(-10,10,0.01)\n",
    "\n",
    "\n",
    "#Graph inital settings\n",
    "fig = go.FigureWidget()\n",
    "fig.add_scatter(x = t)\n",
    "#fig.add_scatter(x = n, y = x, name = \"original signal\")\n",
    "#fig.update_xaxes(title_text='n')\n",
    "#fig.update_yaxes(title_text='signal')\n",
    "\n",
    "@interact(w0 = (1,1000,1))\n",
    "\n",
    "def update(w0 = 1):\n",
    "    yz = np.exp(1j*w0*t)\n",
    "    with fig.batch_update():\n",
    "        fig.data[0].x = t\n",
    "        fig.data[0].y = yz.real\n",
    "fig"
   ]
  },
  {
   "cell_type": "code",
   "execution_count": null,
   "metadata": {},
   "outputs": [],
   "source": []
  }
 ]
}
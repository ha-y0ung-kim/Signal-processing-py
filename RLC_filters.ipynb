{
 "metadata": {
  "language_info": {
   "codemirror_mode": {
    "name": "ipython",
    "version": 3
   },
   "file_extension": ".py",
   "mimetype": "text/x-python",
   "name": "python",
   "nbconvert_exporter": "python",
   "pygments_lexer": "ipython3",
   "version": "3.8.5"
  },
  "orig_nbformat": 2,
  "kernelspec": {
   "name": "python3",
   "display_name": "Python 3",
   "language": "python"
  }
 },
 "nbformat": 4,
 "nbformat_minor": 2,
 "cells": [
  {
   "source": [
    "### Basic types of filters\n",
    "#### Low pass, High pass, Band pass, Band stop, Notch\n",
    "\n",
    "A filter permits certain frequencies to remain while blocking other frequencies <br>\n",
    "Passband is the range of frequency that is preserved after filtering <br>\n",
    "Stopbad is the range of frequency that is removed after filtering <br>\n",
    "Cuttoff frequency determines when to remove/pass the frequency. In other words, it is when the passband changes to stopband<br>\n",
    "Transition width(Hz) is how quick it is to transition from passband to stopband\n",
    "\n",
    "Low pass filter is the most common type because our signal is often at the baseband (Fequencies near 0 Hz)."
   ],
   "cell_type": "markdown",
   "metadata": {}
  },
  {
   "source": [
    "### RLC circuit frequency response\n",
    "#### Simple filter\n",
    "\n",
    "over R: $\\frac{sR}{s^2L+sR+\\frac{1}{C}}$ <br>\n",
    "over L: $\\frac{s^2L}{s^2L+sR+\\frac{1}{C} }$ <br>\n",
    "over C: $\\frac{\\frac{1}{C}}{s^2L+sR+\\frac{1}{C}}$ <br>\n",
    "over L, C: $\\frac{s^2L+\\frac{1}{C}}{s^2L+sR+\\frac{1}{C}}$ <br>"
   ],
   "cell_type": "markdown",
   "metadata": {}
  },
  {
   "cell_type": "code",
   "execution_count": 1,
   "metadata": {},
   "outputs": [],
   "source": [
    "import math\n",
    "import numpy as np\n",
    "import matplotlib.pyplot as plt\n",
    "import plotly.graph_objects as go\n",
    "from plotly.subplots import make_subplots\n",
    "\n",
    "from commpy.filters import rcosfilter\n",
    "from scipy import signal\n",
    "from scipy.fft import fft, fftfreq\n",
    "\n",
    "from ipywidgets import interact\n",
    "import ipywidgets as widgets"
   ]
  },
  {
   "cell_type": "code",
   "execution_count": 2,
   "metadata": {},
   "outputs": [
    {
     "output_type": "display_data",
     "data": {
      "text/plain": "FigureWidget({\n    'data': [{'name': 'R',\n              'type': 'scatter',\n              'uid': '0bac9da0-0c85…",
      "application/vnd.jupyter.widget-view+json": {
       "version_major": 2,
       "version_minor": 0,
       "model_id": "af98491df05e482daa5f3fd975fa0711"
      }
     },
     "metadata": {}
    }
   ],
   "source": [
    "#RLC circuit\n",
    "R = 390\n",
    "C = 270*10**(-9)\n",
    "L = 10*10**(-3)\n",
    "\n",
    "name = [\"R\", \"L\", \"C\", \"LC\"]\n",
    "b = [[R,0], [L,0,0], [1/C], [L,0,1/C]]\n",
    "h = []\n",
    "w = []\n",
    "mag = []\n",
    "phase = []\n",
    "for i in range(4):\n",
    "    h.append(signal.TransferFunction(b[i], [L, R, 1/C]))\n",
    "    ww, m, ph = signal.bode(h[i])\n",
    "    w.append(ww)\n",
    "    mag.append(m)\n",
    "    phase.append(ph)\n",
    "\n",
    "fig = make_subplots(rows = 1, cols = 2, subplot_titles=(\"magnitude\", \"phase\"))\n",
    "for i in range(4):\n",
    "    fig.add_scatter(x = w[i], y = mag[i], name = name[i], row = 1, col = 1)\n",
    "\n",
    "fig.update_xaxes(type = \"log\", row = 1, col = 1)\n",
    "fig.update_xaxes(range = [3,5], row = 1, col = 1)\n",
    "fig.update_yaxes(range = [-40,5], row = 1, col = 1)\n",
    "\n",
    "for i in range(4):\n",
    "    fig.add_scatter(x = w[i], y = phase[i], name = name[i], row = 1, col = 2)\n",
    "\n",
    "fig.update_xaxes(type = \"log\", row = 1, col = 2)\n",
    "fig.update_xaxes(range = [3,5], row = 1, col = 2)\n",
    "\n",
    "figw = go.FigureWidget(fig)\n",
    "figw\n"
   ]
  },
  {
   "source": [
    "R : bandpass\n",
    "L : highpass\n",
    "C : lowpass\n",
    "LC : notch"
   ],
   "cell_type": "markdown",
   "metadata": {}
  },
  {
   "cell_type": "code",
   "execution_count": null,
   "metadata": {},
   "outputs": [],
   "source": []
  }
 ]
}
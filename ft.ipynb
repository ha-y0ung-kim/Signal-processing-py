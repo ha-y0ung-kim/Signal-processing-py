{
 "cells": [
  {
   "cell_type": "code",
   "execution_count": 1,
   "source": [
    "''' Python script to demonstrate Fourier analysis '''\n",
    "from numpy.fft import fft, ifft\n",
    "import numpy as np\n",
    "import matplotlib.pyplot as plt\n",
    "import plotly.graph_objects as go\n",
    "from plotly.subplots import make_subplots\n",
    "import plotly.express as px\n",
    "\n",
    "import plotly.graph_objs as go\n",
    "\n",
    "from ipywidgets import interact\n",
    "import ipywidgets as widgets\n",
    "\n",
    "\n",
    "from ipywidgets.embed import embed_minimal_html"
   ],
   "outputs": [],
   "metadata": {}
  },
  {
   "cell_type": "code",
   "execution_count": 2,
   "source": [
    "fig = make_subplots(rows=1, cols =3)\n",
    "fig.add_scatter(row=1, col=1)\n",
    "fig.update_yaxes(range=[-4,4], row=1,col=1)\n",
    "fig.add_scatter(row=1, col=2)\n",
    "fig.add_scatter(row=1, col=2)\n",
    "fig.add_scatter(row=1, col=3)\n",
    "fig.update_yaxes(type=\"log\", row=1, col=3)\n",
    "figw = go.FigureWidget(fig)"
   ],
   "outputs": [],
   "metadata": {}
  },
  {
   "cell_type": "code",
   "execution_count": 3,
   "source": [
    "@interact(amp = (1,4,1), ph = (0.25,1,0.25), fsig = [0.125,0.3, 1.0, 3.0])\n",
    "def update(amp = 1, ph = 0.25, fsig = 0.125):\n",
    "    nval = 512\n",
    "    dt = 0.25\n",
    "    fcrit = 1/(2*dt)\n",
    "    df = 1/(nval*dt)\n",
    "    phaseshift = ph*np.pi #phase shift\n",
    "    t = dt*np.arange(nval)\n",
    "    u = amp*np.cos(2*np.pi*fsig*t+phaseshift) #.. synthetic signal\n",
    "    f = df*np.arange(nval)    #.. frequency array\n",
    "    z = fft(u)/u.size         #.. Fourier transform (complex)\n",
    "    with figw.batch_update():\n",
    "        figw.data[0].x = t\n",
    "        figw.data[0].y = u\n",
    "        figw.data[1].x = f\n",
    "        figw.data[1].y = z.real\n",
    "        figw.data[2].x = f\n",
    "        figw.data[2].y = z.imag\n",
    "        figw.data[3].x = f\n",
    "        figw.data[3].y = np.abs(z)\n",
    "figw"
   ],
   "outputs": [
    {
     "output_type": "display_data",
     "data": {
      "text/plain": [
       "FigureWidget({\n",
       "    'data': [{'type': 'scatter',\n",
       "              'uid': '7eb3420a-66f1-45ef-b9ee-a7ffe657f01c',\n",
       " …"
      ],
      "application/vnd.jupyter.widget-view+json": {
       "version_major": 2,
       "version_minor": 0,
       "model_id": "70c193cd73e54e5fa01ee28f7bbb51b2"
      }
     },
     "metadata": {}
    }
   ],
   "metadata": {}
  },
  {
   "cell_type": "code",
   "execution_count": null,
   "source": [],
   "outputs": [],
   "metadata": {}
  }
 ],
 "metadata": {
  "kernelspec": {
   "name": "python3",
   "display_name": "Python 3.8.5 64-bit ('base': conda)"
  },
  "language_info": {
   "codemirror_mode": {
    "name": "ipython",
    "version": 3
   },
   "file_extension": ".py",
   "mimetype": "text/x-python",
   "name": "python",
   "nbconvert_exporter": "python",
   "pygments_lexer": "ipython3",
   "version": "3.8.5"
  },
  "widgets": {
   "application/vnd.jupyter.widget-state+json": {
    "state": {},
    "version_major": 2,
    "version_minor": 0
   }
  },
  "interpreter": {
   "hash": "eafa80b47addfddec86265f8982eee525bcb336cff89cfda0837fcc7f650d920"
  }
 },
 "nbformat": 4,
 "nbformat_minor": 2
}
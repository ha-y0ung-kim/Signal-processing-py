{
 "metadata": {
  "language_info": {
   "codemirror_mode": {
    "name": "ipython",
    "version": 3
   },
   "file_extension": ".py",
   "mimetype": "text/x-python",
   "name": "python",
   "nbconvert_exporter": "python",
   "pygments_lexer": "ipython3",
   "version": "3.8.5"
  },
  "orig_nbformat": 2,
  "kernelspec": {
   "name": "python3",
   "display_name": "Python 3",
   "language": "python"
  }
 },
 "nbformat": 4,
 "nbformat_minor": 2,
 "cells": [
  {
   "cell_type": "code",
   "execution_count": 3,
   "metadata": {},
   "outputs": [],
   "source": [
    "from numpy.fft import fft, ifft, fftfreq\n",
    "import numpy as np\n",
    "import matplotlib.pyplot as plt\n",
    "import plotly.graph_objects as go\n",
    "from plotly.subplots import make_subplots\n",
    "import plotly.express as px\n",
    "from scipy import signal\n",
    "\n",
    "from scipy.integrate import quad\n",
    "\n",
    "from ipywidgets import interact\n",
    "import ipywidgets as widgets"
   ]
  },
  {
   "cell_type": "code",
   "execution_count": 5,
   "metadata": {},
   "outputs": [],
   "source": [
    "def integrand(t,T):\n",
    "    return (2*t/T)cos(n*w0*t)\n",
    "\n",
    "T = 1\n",
    "t = np.linspace(-T/2,T/2,1000)\n",
    "\n",
    "an = quad(integrand,-T/2, T/2 ,args = (T))\n",
    "\n",
    "\n",
    "\n",
    "# fft_y = fft(y)\n",
    "# absfft_y=2*abs(fft_y)/(y.size)\n",
    "# f = fftfreq((y.size), T/(y.size))\n",
    "# fft_y_db = 20*np.log10(absfft_y[0:(y.size)//2]/np.sqrt(2))\n",
    "\n",
    "# fig = go.Figure()\n",
    "# fig.add_trace(\n",
    "#         go.Scatter(\n",
    "#             #visible=False,\n",
    "#             mode='lines',\n",
    "#             # line=dict(color=\"#00CED1\", width=6),\n",
    "#             name=\"real\",\n",
    "#             x=t,\n",
    "#             y=y))\n",
    "\n",
    "\n",
    "# fig.update_xaxes(range=[0,0.1])\n",
    "# fig.update_yaxes(range=[-1,1])"
   ]
  },
  {
   "cell_type": "code",
   "execution_count": 6,
   "metadata": {},
   "outputs": [
    {
     "output_type": "execute_result",
     "data": {
      "text/plain": [
       "(0.0, 5.53042002075866e-15)"
      ]
     },
     "metadata": {},
     "execution_count": 6
    }
   ],
   "source": [
    "I"
   ]
  },
  {
   "cell_type": "code",
   "execution_count": null,
   "metadata": {},
   "outputs": [],
   "source": []
  }
 ]
}
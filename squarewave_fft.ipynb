{
 "metadata": {
  "language_info": {
   "codemirror_mode": {
    "name": "ipython",
    "version": 3
   },
   "file_extension": ".py",
   "mimetype": "text/x-python",
   "name": "python",
   "nbconvert_exporter": "python",
   "pygments_lexer": "ipython3",
   "version": "3.8.5"
  },
  "orig_nbformat": 2,
  "kernelspec": {
   "name": "python3",
   "display_name": "Python 3.8.5 64-bit ('base': conda)"
  },
  "interpreter": {
   "hash": "eafa80b47addfddec86265f8982eee525bcb336cff89cfda0837fcc7f650d920"
  }
 },
 "nbformat": 4,
 "nbformat_minor": 2,
 "cells": [
  {
   "cell_type": "code",
   "execution_count": 1,
   "source": [
    "from numpy.fft import fft, ifft, fftfreq\n",
    "import numpy as np\n",
    "import matplotlib.pyplot as plt\n",
    "import plotly.graph_objects as go\n",
    "from plotly.subplots import make_subplots\n",
    "import plotly.express as px\n",
    "from scipy import signal\n",
    "\n",
    "from ipywidgets import interact\n",
    "import ipywidgets as widgets\n"
   ],
   "outputs": [],
   "metadata": {}
  },
  {
   "cell_type": "code",
   "execution_count": 2,
   "source": [
    "amp = 2 #amplitude of square wave\n",
    "T = 1*10**(-3) #period of square wave\n",
    "fs = 200*10**3 #200kHz sampling freq\n",
    "t = np.arange(0,1,1/fs)"
   ],
   "outputs": [],
   "metadata": {}
  },
  {
   "cell_type": "code",
   "execution_count": 3,
   "source": [
    "fig = make_subplots(rows =1, cols = 3)\n",
    "fig.add_scatter(x = t, row = 1, col = 1)\n",
    "fig.update_xaxes(range=[0,0.01],row = 1, col = 1)\n",
    "fig.update_yaxes(range=[-3,3], row = 1, col = 1)\n",
    "fig.add_scatter(row = 1, col = 2)\n",
    "fig.add_scatter(row = 1, col = 3)\n",
    "fig.update_xaxes(range = [0,8000],row = 1, col = 3)\n",
    "figw = go.FigureWidget(fig)"
   ],
   "outputs": [],
   "metadata": {}
  },
  {
   "cell_type": "code",
   "execution_count": 4,
   "source": [
    "@interact(duty = (0.1, 0.9, 0.1), scale = [\"amps\", \"dBscale\"]) #duty cycle\n",
    "def update(duty = 0.5, scale = \"amps\"): \n",
    "    y = 2*signal.square(2*np.pi*t*(1/T),duty)\n",
    "\n",
    "    u = fft(y)\n",
    "    U = 2*abs(fft(y))/fs\n",
    "    xu = fftfreq(fs,1/fs )\n",
    "    u_db = 20*np.log10(U[0:fs//2]/np.sqrt(2))\n",
    "\n",
    "    #plt.plot(xu[:fs//2], 2/fs*np.abs(u[0:fs//2]))\n",
    "    #plt.plot(xu,abs(u))\n",
    "    # plt.plot(xu[:fs//2], u_db)\n",
    "    # plt.xlim(0,8000)\n",
    "\n",
    "    with figw.batch_update():\n",
    "        figw.data[0].y = y\n",
    "        figw.data[1].x = xu[:fs//2]\n",
    "        figw.data[2].x = xu[:fs//2]\n",
    "        if scale ==\"amps\":\n",
    "            figw.data[1].y = 2/fs*abs(u[0:fs//2])\n",
    "            figw.data[2].y = 2/fs*abs(u[0:fs//2])\n",
    "        else :\n",
    "            figw.data[1].y = u_db\n",
    "            figw.data[2].y = u_db\n",
    "figw"
   ],
   "outputs": [
    {
     "output_type": "display_data",
     "data": {
      "text/plain": [
       "interactive(children=(FloatSlider(value=0.5, description='duty', max=0.9, min=0.1), Dropdown(description='scal…"
      ],
      "application/vnd.jupyter.widget-view+json": {
       "version_major": 2,
       "version_minor": 0,
       "model_id": "a17ac8ef8cdc49d481a2d94b79690f1b"
      }
     },
     "metadata": {}
    },
    {
     "output_type": "display_data",
     "data": {
      "text/plain": [
       "FigureWidget({\n",
       "    'data': [{'type': 'scatter',\n",
       "              'uid': '41e04d16-1d21-4b6f-8c40-d5bd8be395fe',\n",
       " …"
      ],
      "application/vnd.jupyter.widget-view+json": {
       "version_major": 2,
       "version_minor": 0,
       "model_id": "5d98583ab1064317adb1e85412874590"
      }
     },
     "metadata": {}
    }
   ],
   "metadata": {}
  }
 ]
}
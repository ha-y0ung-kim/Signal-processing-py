{
 "cells": [
  {
   "cell_type": "code",
   "execution_count": 10,
   "metadata": {},
   "outputs": [],
   "source": [
    "from numpy.fft import fft, ifft\n",
    "import numpy as np\n",
    "import matplotlib.pyplot as plt\n",
    "import plotly.graph_objects as go\n",
    "from plotly.subplots import make_subplots\n",
    "import plotly.express as px\n",
    "\n",
    "import plotly.graph_objs as go\n",
    "\n",
    "from ipywidgets import interact\n",
    "import ipywidgets as widgets"
   ]
  },
  {
   "cell_type": "code",
   "execution_count": 11,
   "metadata": {},
   "outputs": [],
   "source": [
    "fig = make_subplots(rows=2, cols=1)\n",
    "fig.add_scatter(name=\"real\", row=1, col=1)\n",
    "fig.add_scatter(name = \"imag\", row=1, col=1)\n",
    "fig.add_scatter(name=\"real\", row=2, col=1)\n",
    "fig.add_scatter(name = \"imag\", row=2, col=1)\n",
    "figw = go.FigureWidget(fig)  # passing the subplot figure into FigureWidget"
   ]
  },
  {
   "cell_type": "code",
   "execution_count": 15,
   "metadata": {},
   "outputs": [
    {
     "output_type": "display_data",
     "data": {
      "text/plain": "interactive(children=(IntSlider(value=4, description='a', max=127), IntSlider(value=0, description='b', max=12…",
      "application/vnd.jupyter.widget-view+json": {
       "version_major": 2,
       "version_minor": 0,
       "model_id": "7357e02eb70a4e57bebfbde752b6a6d7"
      }
     },
     "metadata": {}
    },
    {
     "output_type": "display_data",
     "data": {
      "text/plain": "FigureWidget({\n    'data': [{'name': 'real',\n              'type': 'scatter',\n              'uid': 'ec92410f-d…",
      "application/vnd.jupyter.widget-view+json": {
       "version_major": 2,
       "version_minor": 0,
       "model_id": "83f96ce3160f4d5688f3c4fcdc3be9c8"
      }
     },
     "metadata": {}
    }
   ],
   "source": [
    "@interact(a=(0,127,1), b=(0,127,1), c=(0,1), d = (0,1))\n",
    "def update(a=4, b=0,c=1, d=0):\n",
    "    x = np.zeros(128)\n",
    "    y = np.zeros(128)\n",
    "    z = x+y*1j\n",
    "    z[a] = c\n",
    "    z[b] = d*1j\n",
    "    u = ifft(z)*z.size\n",
    "    with figw.batch_update():\n",
    "        figw.data[0].y = z.real\n",
    "        figw.data[1].y = z.imag\n",
    "        figw.data[2].y = u.real\n",
    "        figw.data[3].y = u.imag\n",
    "figw"
   ]
  },
  {
   "cell_type": "code",
   "execution_count": 17,
   "metadata": {},
   "outputs": [],
   "source": [
    "figw.write_html(\"a.html\")"
   ]
  },
  {
   "cell_type": "code",
   "execution_count": null,
   "metadata": {},
   "outputs": [],
   "source": []
  }
 ],
 "metadata": {
  "kernelspec": {
   "name": "python3",
   "display_name": "Python 3",
   "language": "python"
  }
 },
 "nbformat": 4,
 "nbformat_minor": 4
}
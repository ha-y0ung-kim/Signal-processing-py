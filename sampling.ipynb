{
 "metadata": {
  "language_info": {
   "codemirror_mode": {
    "name": "ipython",
    "version": 3
   },
   "file_extension": ".py",
   "mimetype": "text/x-python",
   "name": "python",
   "nbconvert_exporter": "python",
   "pygments_lexer": "ipython3",
   "version": "3.8.5"
  },
  "orig_nbformat": 2,
  "kernelspec": {
   "name": "python3",
   "display_name": "Python 3",
   "language": "python"
  }
 },
 "nbformat": 4,
 "nbformat_minor": 2,
 "cells": [
  {
   "source": [
    " #### Simulation of Impulse Train Sampling\n",
    "$x_p(t) = x(t)p(t)$\n",
    "\n",
    " p(t) : sampling function <br>\n",
    " T: sampling period <br> \n",
    " $\\omega _s = 2 \\pi / T $ : sampling frequency = fundamental frequency of p(t)\n",
    "\n",
    "\n",
    " In the simulation, we use square function with different duty cycle than the unit impulse function"
   ],
   "cell_type": "markdown",
   "metadata": {}
  },
  {
   "cell_type": "code",
   "execution_count": 21,
   "metadata": {},
   "outputs": [],
   "source": [
    "import math\n",
    "import numpy as np\n",
    "import matplotlib.pyplot as plt\n",
    "import plotly.graph_objects as go\n",
    "from plotly.subplots import make_subplots\n",
    "\n",
    "from commpy.filters import rcosfilter\n",
    "from scipy import signal\n",
    "from scipy.fft import fft, fftfreq\n",
    "\n",
    "from ipywidgets import interact\n",
    "import ipywidgets as widgets"
   ]
  },
  {
   "cell_type": "code",
   "execution_count": 46,
   "metadata": {},
   "outputs": [
    {
     "output_type": "display_data",
     "data": {
      "text/plain": "interactive(children=(Dropdown(description='fs', index=2, options=(48, 100, 200, 500, 1000), value=200), Dropd…",
      "application/vnd.jupyter.widget-view+json": {
       "version_major": 2,
       "version_minor": 0,
       "model_id": "0937429dc1744f239fae1bfe94a6ae7d"
      }
     },
     "metadata": {}
    },
    {
     "output_type": "display_data",
     "data": {
      "text/plain": "FigureWidget({\n    'data': [{'type': 'scatter',\n              'uid': '7d51be2e-f1a2-43a0-9bef-c3c9f76b5acf',\n …",
      "application/vnd.jupyter.widget-view+json": {
       "version_major": 2,
       "version_minor": 0,
       "model_id": "dbf5e165e8cd4d0cbfaada5238e766a7"
      }
     },
     "metadata": {}
    }
   ],
   "source": [
    "# With square function and duty cycle\n",
    "\n",
    "f = 50  # Frequency of the original signal\n",
    "n = 1000*10**2   #number of points for the original signal\n",
    "t = np.linspace(0,1,n)  #time range\n",
    "x = 5*np.sin(2*np.pi*f*t)  #original signal\n",
    "x_f = fft(x)    # original signal in frequency domain \n",
    "f = fftfreq(n, 1/n)[:n//2]  #frequency axis\n",
    "\n",
    "\n",
    "fig = make_subplots(rows = 3, cols = 2, subplot_titles=(\"original\", \"original\", \"impulse train\", \"impulse train\", \"sampled signal\", \"sampled signal\"))\n",
    "\n",
    "fig.update_layout(title_text=\"sampling\")\n",
    "\n",
    "# time domain\n",
    "fig.add_scatter(x = t[:n//2], y = x, row = 1, col = 1)\n",
    "fig.add_scatter(x = t[:n//2], mode = \"lines\", row = 2, col = 1)\n",
    "fig.add_scatter(x = t[:n//2], row = 3, col = 1)\n",
    "fig.update_xaxes(title_text=\"time\", row=3, col=1)\n",
    "\n",
    "# #frequency domain\n",
    "fig.add_scatter(x = f[:(f.size)//25], y = abs(x_f)[:n//2], row = 1, col = 2)\n",
    "fig.add_scatter(x = f[:(f.size)//25], mode = \"lines\", row = 2, col = 2)\n",
    "fig.add_scatter(x = f[:(f.size)//25], row = 3, col = 2)\n",
    "fig.update_xaxes(title_text=\"freq\", row=3, col=2)\n",
    "\n",
    "fig.layout.update(showlegend=False)\n",
    "figw = go.FigureWidget(fig)\n",
    "\n",
    "@interact (fs = [48, 100, 200,500, 1000], duty = [0.001, 0.1, 0.3, 0.5, 0.7])\n",
    "\n",
    "def update(fs = 200, duty = 0.001):\n",
    "    p = 0.5*signal.square( t*2*np.pi*fs, 0.001) + 0.5\n",
    "    s = x*p\n",
    "    with figw.batch_update():\n",
    "        figw.data[1].y = p\n",
    "        figw.data[2].y = s\n",
    "        figw.data[4].y = abs(fft(p))[:n//2]\n",
    "        figw.data[5].y = abs(fft(s))[:n//2]\n",
    "figw\n"
   ]
  },
  {
   "cell_type": "code",
   "execution_count": 60,
   "metadata": {},
   "outputs": [
    {
     "output_type": "display_data",
     "data": {
      "text/plain": "interactive(children=(Dropdown(description='fs', index=2, options=(48, 100, 200, 500, 1000), value=200), Outpu…",
      "application/vnd.jupyter.widget-view+json": {
       "version_major": 2,
       "version_minor": 0,
       "model_id": "201aa6a21d7a444cb3bf3f10c45b183e"
      }
     },
     "metadata": {}
    },
    {
     "output_type": "display_data",
     "data": {
      "text/plain": "FigureWidget({\n    'data': [{'type': 'scatter',\n              'uid': 'aa38ae46-c605-4995-a030-cfd86a632854',\n …",
      "application/vnd.jupyter.widget-view+json": {
       "version_major": 2,
       "version_minor": 0,
       "model_id": "be9344379df747a5b99631867d99a51d"
      }
     },
     "metadata": {}
    }
   ],
   "source": [
    "# With impulse train\n",
    "\n",
    "f = 50\n",
    "n = 100000\n",
    "t = np.linspace(0,1,n)\n",
    "x = 5*np.sin(2*np.pi*f*t)  #original signal\n",
    "x_f = fft(x)\n",
    "f = fftfreq(n, 1/n)[:n//2]\n",
    "\n",
    "fig = make_subplots(rows = 3, cols = 2, subplot_titles=(\"original\", \"original\", \"impulse train\", \"impulse train\", \"sampled signal\", \"sampled signal\"))\n",
    "\n",
    "fig.update_layout(title_text=\"sampling\")\n",
    "\n",
    "# time domain\n",
    "fig.add_scatter(x = t[:n//2], y = x, row = 1, col = 1)\n",
    "fig.add_scatter(x = t[:n//2], mode = \"lines\", row = 2, col = 1)\n",
    "fig.add_scatter(x = t[:n//2], row = 3, col = 1)\n",
    "fig.update_xaxes(title_text=\"time\", row=3, col=1)\n",
    "\n",
    "# #frequency domain\n",
    "fig.add_scatter(x = f[:(f.size)//25], y = abs(x_f)[:n//2], row = 1, col = 2)\n",
    "fig.add_scatter(x = f[:(f.size)//25], mode = \"lines\", row = 2, col = 2)\n",
    "fig.add_scatter(x = f[:(f.size)//25], row = 3, col = 2)\n",
    "fig.update_xaxes(title_text=\"freq\", row=3, col=2)\n",
    "\n",
    "fig.layout.update(showlegend=False)\n",
    "figw = go.FigureWidget(fig)\n",
    "\n",
    "@interact (fs = [48, 100, 200,500, 1000])\n",
    "\n",
    "def update(fs = 200):\n",
    "    A = np.arange(0,N,N//fs)\n",
    "    p = signal.unit_impulse(n, A)\n",
    "    s = x*p\n",
    "    with figw.batch_update():\n",
    "        figw.data[1].y = p\n",
    "        figw.data[2].y = s\n",
    "        figw.data[4].y = abs(fft(p))[:n//2]\n",
    "        figw.data[5].y = abs(fft(s))[:n//2]\n",
    "figw"
   ]
  }
 ]
}
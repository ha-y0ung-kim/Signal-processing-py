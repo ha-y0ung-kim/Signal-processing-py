{
 "metadata": {
  "language_info": {
   "codemirror_mode": {
    "name": "ipython",
    "version": 3
   },
   "file_extension": ".py",
   "mimetype": "text/x-python",
   "name": "python",
   "nbconvert_exporter": "python",
   "pygments_lexer": "ipython3",
   "version": "3.8.5"
  },
  "orig_nbformat": 2,
  "kernelspec": {
   "name": "python3",
   "display_name": "Python 3",
   "language": "python"
  }
 },
 "nbformat": 4,
 "nbformat_minor": 2,
 "cells": [
  {
   "cell_type": "code",
   "execution_count": 2,
   "metadata": {},
   "outputs": [],
   "source": [
    "import math\n",
    "import numpy as np\n",
    "import matplotlib.pyplot as plt\n",
    "import plotly.graph_objects as go\n",
    "from plotly.subplots import make_subplots\n",
    "\n",
    "from commpy.filters import rcosfilter\n",
    "from scipy import signal\n",
    "from scipy.fft import fft, fftfreq\n",
    "\n",
    "from ipywidgets import interact\n",
    "import ipywidgets as widgets"
   ]
  },
  {
   "cell_type": "code",
   "execution_count": 19,
   "metadata": {},
   "outputs": [
    {
     "output_type": "display_data",
     "data": {
      "text/plain": "interactive(children=(Dropdown(description='fs', index=1, options=(48, 100, 200, 500, 1000), value=100), Float…",
      "application/vnd.jupyter.widget-view+json": {
       "version_major": 2,
       "version_minor": 0,
       "model_id": "29463fb6aff5481ea19b43ea6c7a7e01"
      }
     },
     "metadata": {}
    },
    {
     "output_type": "display_data",
     "data": {
      "text/plain": "FigureWidget({\n    'data': [{'type': 'scatter',\n              'uid': '7153d5da-a60b-4995-8224-640825924c13',\n …",
      "application/vnd.jupyter.widget-view+json": {
       "version_major": 2,
       "version_minor": 0,
       "model_id": "2929e7d5db244365a0ae97f280a84b49"
      }
     },
     "metadata": {}
    }
   ],
   "source": [
    "f = 50\n",
    "n = 50*10**3\n",
    "t = np.linspace(0,0.5,n)\n",
    "x = 5*np.sin(2*np.pi*f*t)  #original signal\n",
    "\n",
    "\n",
    "fig = make_subplots(rows = 3, cols = 1, subplot_titles=(\"original\", \"impulse train\", \"sampled signal\"))\n",
    "\n",
    "fig.update_layout(title_text=\"sampling\")\n",
    "fig.add_scatter(x = t, y = x, row = 1, col = 1)\n",
    "fig.add_scatter(x = t, mode = \"lines\", row = 2, col = 1)\n",
    "fig.add_scatter(x = t, row = 3, col = 1)\n",
    "fig.update_xaxes(title_text=\"time\", row=3, col=1)\n",
    "fig.layout.update(showlegend=False)\n",
    "figw = go.FigureWidget(fig)\n",
    "\n",
    "@interact (fs = [48, 100, 200,500, 1000], duty = (0.1, 0.9, 0.1))\n",
    "\n",
    "def update(fs = 100, duty = 0.5):\n",
    "    p = 0.5*signal.square( t*2*np.pi*fs, duty) + 0.5\n",
    "    s = x*p\n",
    "    with figw.batch_update():\n",
    "        figw.data[1].y = p\n",
    "        figw.data[2].y = s\n",
    "figw\n"
   ]
  },
  {
   "cell_type": "code",
   "execution_count": null,
   "metadata": {},
   "outputs": [],
   "source": []
  }
 ]
}
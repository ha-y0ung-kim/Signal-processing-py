{
 "metadata": {
  "language_info": {
   "codemirror_mode": {
    "name": "ipython",
    "version": 3
   },
   "file_extension": ".py",
   "mimetype": "text/x-python",
   "name": "python",
   "nbconvert_exporter": "python",
   "pygments_lexer": "ipython3",
   "version": "3.8.5"
  },
  "orig_nbformat": 2,
  "kernelspec": {
   "name": "python3",
   "display_name": "Python 3",
   "language": "python"
  }
 },
 "nbformat": 4,
 "nbformat_minor": 2,
 "cells": [
  {
   "source": [
    " ### Simulation of Impulse Train Sampling\n",
    "$x_p(t) = x(t)p(t)$\n",
    "\n",
    " p(t) : sampling function <br>\n",
    " T: sampling period <br> \n",
    " $\\omega _s = 2 \\pi / T $ : sampling frequency = fundamental frequency of p(t)"
   ],
   "cell_type": "markdown",
   "metadata": {}
  },
  {
   "cell_type": "code",
   "execution_count": 5,
   "metadata": {},
   "outputs": [],
   "source": [
    "import math\n",
    "import numpy as np\n",
    "import matplotlib.pyplot as plt\n",
    "import plotly.graph_objects as go\n",
    "from plotly.subplots import make_subplots\n",
    "\n",
    "from commpy.filters import rcosfilter\n",
    "from scipy import signal\n",
    "from scipy.fft import fft, fftfreq, fftshift\n",
    "\n",
    "from ipywidgets import interact\n",
    "import ipywidgets as widgets"
   ]
  },
  {
   "cell_type": "code",
   "execution_count": 28,
   "metadata": {},
   "outputs": [
    {
     "output_type": "display_data",
     "data": {
      "text/plain": "interactive(children=(Dropdown(description='fs', index=2, options=(8, 10, 20, 50), value=20), Output()), _dom_…",
      "application/vnd.jupyter.widget-view+json": {
       "version_major": 2,
       "version_minor": 0,
       "model_id": "d50a690a0f97438ebb84bfbf05a01a03"
      }
     },
     "metadata": {}
    },
    {
     "output_type": "display_data",
     "data": {
      "text/plain": "FigureWidget({\n    'data': [{'type': 'scatter',\n              'uid': '75e71210-4a9d-42cb-8f96-baec9718f918',\n …",
      "application/vnd.jupyter.widget-view+json": {
       "version_major": 2,
       "version_minor": 0,
       "model_id": "c511ee49f492477bbb8915b127a10cf8"
      }
     },
     "metadata": {}
    }
   ],
   "source": [
    "# With impulse train\n",
    "\n",
    "f = 5  #Frequency of the input signal\n",
    "n = 10000\n",
    "t = np.linspace(0,1,n)\n",
    "x = 5*np.sin(2*np.pi*f*t)   # input signal\n",
    "x_f = fft(x)                # frequency domain of input signal\n",
    "x_f = fftshift(x_f)\n",
    "f = fftfreq(n, 1/n)\n",
    "f = fftshift(f)\n",
    "#fs = 20 #[48, 100, 200, 500]    sampling frequency \n",
    "\n",
    "fig = make_subplots(rows = 3, cols = 2, subplot_titles=(\"original\", \"original\", \"impulse train\", \"impulse train\", \"sampled signal\", \"sampled signal\"))\n",
    "#fig = go.Figure()\n",
    "fig.update_layout(title_text=\"sampling\")\n",
    "\n",
    "\n",
    "# time domain\n",
    "fig.add_scatter(x = t[:n//2], y = x, row = 1, col = 1)\n",
    "fig.add_scatter(x = t[:n//2],  mode = \"lines\", row = 2, col = 1)\n",
    "fig.add_scatter(x = t[:n//2],  row = 3, col = 1)\n",
    "fig.update_xaxes(title_text=\"time\", row=3, col=1)\n",
    "\n",
    "# #frequency domain\n",
    "fig.add_scatter(x = f, y = abs(x_f), row = 1, col = 2)\n",
    "fig.add_scatter(x = f,  mode = \"lines\", row = 2, col = 2)\n",
    "fig.add_scatter(x = f,  row = 3, col = 2)\n",
    "fig.update_xaxes(title_text=\"freq\", row=3, col=2)\n",
    "\n",
    "fig.update_xaxes(range=[-100,100], row =1, col = 2)\n",
    "fig.update_xaxes(range=[-100,100], row =2, col = 2)\n",
    "fig.update_xaxes(range=[-100,100], row =3, col = 2)\n",
    "\n",
    "fig.layout.update(showlegend=False)\n",
    "\n",
    "figw = go.FigureWidget(fig)\n",
    "\n",
    "@interact (fs = [8, 10, 20, 50], )\n",
    "\n",
    "def update(fs = 20):\n",
    "    A = np.arange(0,n,n//fs) # having fs samples from [0 to n]\n",
    "    p = signal.unit_impulse(n, A) # Impulse train of frequency fs (sampling rate of fs)\n",
    "    s = x*p  # sampled signal\n",
    "\n",
    "    p_f = fft(p)\n",
    "    s_f = fft(s)\n",
    "    s_f = fftshift(s_f)\n",
    "    p_f = fftshift(p_f)\n",
    "\n",
    "    with figw.batch_update():\n",
    "        figw.data[1].y = p\n",
    "        figw.data[2].y = s\n",
    "        figw.data[4].y = abs(p_f)\n",
    "        figw.data[5].y = abs(s_f)\n",
    "\n",
    "figw"
   ]
  },
  {
   "cell_type": "code",
   "execution_count": 5,
   "metadata": {},
   "outputs": [
    {
     "output_type": "display_data",
     "data": {
      "text/plain": "interactive(children=(Dropdown(description='fs', index=2, options=(48, 100, 200, 500, 1000), value=200), Dropd…",
      "application/vnd.jupyter.widget-view+json": {
       "version_major": 2,
       "version_minor": 0,
       "model_id": "ed4ef6ed5fa94718818bee95f68d32c7"
      }
     },
     "metadata": {}
    },
    {
     "output_type": "display_data",
     "data": {
      "text/plain": "FigureWidget({\n    'data': [{'type': 'scatter',\n              'uid': '291e6024-0313-4826-b5c4-de6eea0f6591',\n …",
      "application/vnd.jupyter.widget-view+json": {
       "version_major": 2,
       "version_minor": 0,
       "model_id": "e25db62c8899446292ab42764531736d"
      }
     },
     "metadata": {}
    }
   ],
   "source": [
    "# With square function and duty cycle\n",
    "\n",
    "f = 50  # Frequency of the original signal\n",
    "n = 1000*10**2   #number of points for the original signal\n",
    "t = np.linspace(0,1,n)  #time range\n",
    "x = 5*np.sin(2*np.pi*f*t)  #original signal\n",
    "x_f = fft(x)    # original signal in frequency domain \n",
    "f = fftfreq(n, 1/n)  #frequency axis\n",
    "\n",
    "\n",
    "fig = make_subplots(rows = 3, cols = 2, subplot_titles=(\"original\", \"original\", \"impulse train\", \"impulse train\", \"sampled signal\", \"sampled signal\"))\n",
    "\n",
    "fig.update_layout(title_text=\"sampling\")\n",
    "\n",
    "# time domain\n",
    "fig.add_scatter(x = t[:n//2], y = x, row = 1, col = 1)\n",
    "fig.add_scatter(x = t[:n//2], mode = \"lines\", row = 2, col = 1)\n",
    "fig.add_scatter(x = t[:n//2], row = 3, col = 1)\n",
    "fig.update_xaxes(title_text=\"time\", row=3, col=1)\n",
    "\n",
    "# #frequency domain\n",
    "fig.add_scatter(x = f, y = abs(x_f), row = 1, col = 2)\n",
    "fig.add_scatter(x = f, mode = \"lines\", row = 2, col = 2)\n",
    "fig.add_scatter(x = f, row = 3, col = 2)\n",
    "fig.update_xaxes(title_text=\"freq\", row=3, col=2)\n",
    "\n",
    "fig.layout.update(showlegend=False)\n",
    "figw = go.FigureWidget(fig)\n",
    "\n",
    "@interact (fs = [48, 100, 200,500, 1000], duty = [0.001, 0.1, 0.3, 0.5, 0.7])\n",
    "\n",
    "def update(fs = 200, duty = 0.5):\n",
    "    p = 0.5*signal.square( t*2*np.pi*fs, duty) + 0.5\n",
    "    s = x*p\n",
    "    with figw.batch_update():\n",
    "        figw.data[1].y = p\n",
    "        figw.data[2].y = s\n",
    "        figw.data[4].y = abs(fft(p))/p.size\n",
    "        figw.data[5].y = abs(fft(s))\n",
    "figw"
   ]
  },
  {
   "source": [
    "\n",
    "#### Background\n",
    "To convert analog signal (continuous) to digital signal (discrete) we go through several process. \n",
    "\n",
    "First we pass the signal through a filter (usually LP) to remove any frequency region of the signal that might be out of our interest. Or in other words, we make the signal to a finite bandwidth. <br>\n",
    "Than Sampling is done to convert continuous time to discrete time. <br>\n",
    "Afterwords, we Quantize the signal to convert continuous amplitude to discrete amplitude values. <br>\n",
    "\n",
    "The general process is <br>\n",
    "Continuous signal input $\\rightarrow$ LP filter $\\rightarrow$ Sampling $\\rightarrow$ Quantization\n",
    "\n",
    "\n",
    "When sampling a signal, there is a condition we have to keep so that the signal can capture all the information in the continuous time. <br>\n",
    "This is called the **Sampling Theorem** and it specifies the minimum *sampling rate* at which a continuous time signal need to be uniformely sampled so that the original signal can be completely reconstructed by the samples alone.\n",
    "\n",
    "This theorem states that, <br>\n",
    "\n",
    "If a function have no frequency higher than B, the sampling rate should be higher 2B (nyquist rate)\n",
    "\n",
    "\n",
    "Sampling is done by multiplying a signal in time domain with an impulse train function. <br>\n",
    "Impulse train function in time domain gives an impulse train in frequency domain too. <br>\n",
    "So the output signal frequency response creates a shifted version of the input signal's frequency response, shifted uniformly every fs[Hz] when fs is the impulse train sampling frequency. <br>\n",
    "When we assume if the input signal as real, the signal would be symmetric in frequency domain. Therefore, if the input signal had a maximum frequency of B, the sampling frequency should be twice the maximum frequency (2B) to avoide alising.\n",
    "\n",
    "\n",
    "#### prep\n",
    "\n",
    "Sampling theory gives a condition of the sampling rate such that the orginal signal can be recondstructed by the sampled samples. <br>\n",
    "When the input signal has a maximum frequency of B, the sampling rate should be higher than 2B\n",
    "\n",
    "Alising is a distortion of signal when the signal's frequency range overlaps. It happens when we undersample the signal and the sampled signal's frequency range overlaps and creates a distortion of the signal."
   ],
   "cell_type": "markdown",
   "metadata": {}
  },
  {
   "cell_type": "code",
   "execution_count": null,
   "metadata": {},
   "outputs": [],
   "source": []
  }
 ]
}
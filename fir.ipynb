{
 "metadata": {
  "language_info": {
   "codemirror_mode": {
    "name": "ipython",
    "version": 3
   },
   "file_extension": ".py",
   "mimetype": "text/x-python",
   "name": "python",
   "nbconvert_exporter": "python",
   "pygments_lexer": "ipython3",
   "version": "3.8.5"
  },
  "orig_nbformat": 2,
  "kernelspec": {
   "name": "python3",
   "display_name": "Python 3",
   "language": "python"
  }
 },
 "nbformat": 4,
 "nbformat_minor": 2,
 "cells": [
  {
   "cell_type": "code",
   "execution_count": 1,
   "metadata": {},
   "outputs": [],
   "source": [
    "import math\n",
    "import numpy as np\n",
    "import matplotlib.pyplot as plt\n",
    "import plotly.graph_objects as go\n",
    "from plotly.subplots import make_subplots\n",
    "\n",
    "from commpy.filters import rcosfilter\n",
    "from scipy import signal\n",
    "from scipy.fft import fft, fftfreq\n",
    "\n",
    "from ipywidgets import interact\n",
    "import ipywidgets as widgets"
   ]
  },
  {
   "cell_type": "code",
   "execution_count": 2,
   "metadata": {},
   "outputs": [],
   "source": [
    "class FIRfilter(object):\n",
    "    def __init__(self, h, Ns):\n",
    "        \"\"\"\n",
    "        create(initialize) a new FIR filter, return inital state\n",
    "        h: filter taps\n",
    "        Ns: Number of samples processed per block\n",
    "        \"\"\"\n",
    "\n",
    "        M = 2**(math.ceil(np.log2(Ns)+1))\n",
    "\n",
    "        buff = np.zeros(M)\n",
    "\n",
    "        self.h = h\n",
    "        self.Ns = Ns\n",
    "        self.M = M\n",
    "        self.Mmask = M-1\n",
    "        self.buff = buff\n",
    "        self.n_t = 0 #inital tail pointer\n",
    "        self.n_p = 0 #???? temp pointer\n",
    "    \n",
    "    def fir(self, x):\n",
    "        \"\"\"\n",
    "        Executes FIR block\n",
    "        x : samples to process\n",
    "        \"\"\"\n",
    "        y = np.zeros(x.size)\n",
    "        for i in range (x.size):\n",
    "            self.buff[self.n_t] = x[i]\n",
    "            self.ptr = self.n_t\n",
    "            self.n_t = (self.n_t + 1) & self.Mmask # % self.M\n",
    "            sum = 0.0\n",
    "            for j in range((self.h).size):\n",
    "                sum = sum + self.buff[self.ptr] * self.h[j]\n",
    "                self.ptr = (self.ptr - 1) & self.Mmask #% self.M\n",
    "            y[i] = sum\n",
    "        return y"
   ]
  },
  {
   "cell_type": "code",
   "execution_count": 3,
   "metadata": {},
   "outputs": [],
   "source": [
    "def raisedcosinefilter(Ntap, beta, Ts):\n",
    "    \"\"\"\n",
    "    create raised cosine filter taps\n",
    "    \n",
    "    Ntap : number of taps\n",
    "    Ts : symbol period\n",
    "\n",
    "    return: filter time range, filter taps\n",
    "    \"\"\"\n",
    "\n",
    "    t = np.arange(-Ntap/2,Ntap/2)\n",
    "    rcfilter = np.sinc(t/Ts) * np.cos(np.pi*beta*t/Ts) / ((1 -(2*beta*t/Ts)**2)*Ts)\n",
    "    return t, rcfilter"
   ]
  },
  {
   "cell_type": "code",
   "execution_count": 111,
   "metadata": {},
   "outputs": [
    {
     "output_type": "display_data",
     "data": {
      "text/plain": "FigureWidget({\n    'data': [{'name': 'original signal',\n              'type': 'scatter',\n              'uid': …",
      "application/vnd.jupyter.widget-view+json": {
       "version_major": 2,
       "version_minor": 0,
       "model_id": "0f1fd7039daf48d49244ac0dbb0bef40"
      }
     },
     "metadata": {}
    }
   ],
   "source": [
    "# Script to test the FIR filter.\n",
    "\n",
    "# Global parameters\n",
    "Nb = 100    # Number of buffers\n",
    "Ns = 128\t# Samples in each buffer\n",
    "\n",
    "# Generate filter coefficients\n",
    "num_taps = 64\n",
    "beta = 0.1\n",
    "Ts = 16\n",
    "\n",
    "_, h_rc = raisedcosinefilter(num_taps, beta, Ts)\n",
    "\n",
    "\n",
    "# Generate some random samples.\n",
    "x = np.random.randn(Ns*Nb)\n",
    "\n",
    "# simple convolution\n",
    "yc = np.convolve(x, h_rc) \n",
    "\n",
    "\n",
    "# DSP like FIR filter \n",
    "state_fir = FIRfilter(h_rc, Ns)\n",
    "xb = np.reshape(x, (Nb, Ns))\n",
    "yb = np.zeros((Nb, Ns))\n",
    "for j in range (Nb):\n",
    "    yb[j] = state_fir.fir(xb[j])\n",
    "yb = np.reshape(yb, Nb*Ns)\n",
    "\n",
    "n = np.arange(x.size).reshape((Nb*Ns)) # discrete time axis for graph\n",
    "\n",
    "# plt.plot(n,x, n, yb)\n",
    "# plt.plot(yc)\n",
    "\n",
    "fig = go.FigureWidget()\n",
    "fig.update_layout(title_text=\"freq\")\n",
    "fig.add_scatter(y = abs(fft(x)[:Nb*Ns//2]), name = \"original signal\")\n",
    "fig.add_scatter(y = abs(fft(yc)[:Nb*Ns//2]), name = \"convolution with FIR\")\n",
    "fig.add_scatter(y = abs(fft(yb)[:Nb*Ns//2]), name = \"DSP ish FIR filter\")"
   ]
  },
  {
   "source": [
    "##### Test the FIR filter with another input signal"
   ],
   "cell_type": "markdown",
   "metadata": {}
  },
  {
   "cell_type": "code",
   "execution_count": 8,
   "metadata": {},
   "outputs": [
    {
     "output_type": "display_data",
     "data": {
      "text/plain": "FigureWidget({\n    'data': [{'name': 'original signal',\n              'type': 'scatter',\n              'uid': …",
      "application/vnd.jupyter.widget-view+json": {
       "version_major": 2,
       "version_minor": 0,
       "model_id": "cd5f3fd9379d4a188c3a8ae2eebdb8aa"
      }
     },
     "metadata": {}
    }
   ],
   "source": [
    "x = np.array([1,1,0,1,0,0,0,1,1,0,1,0,1,0,0,0,1,0,0,1]).repeat(8)\n",
    "\n",
    "n = np.arange(x.size)\n",
    "num_taps = 50\n",
    "beta = 0.1\n",
    "Ts = 8\n",
    "\n",
    "_, h_rc = raisedcosinefilter(num_taps, beta, Ts)\n",
    "\n",
    "\n",
    "yc = np.convolve(x, h_rc) \n",
    "\n",
    "state_fir = FIRfilter(h_rc, x.size)\n",
    "yb = np.zeros(x.size)\n",
    "yb = state_fir.fir(x)\n",
    "\n",
    "\n",
    "fig = go.FigureWidget()\n",
    "fig.update_layout(title_text=\"time\")\n",
    "fig.add_scatter(y = x, name = \"original signal\")\n",
    "fig.add_scatter(y = yc, name = \"convolution with FIR\")\n",
    "fig.add_scatter(y = yb, name = \"DSP ish FIR filter\")\n",
    "\n",
    "fig\n"
   ]
  },
  {
   "source": [
    "##### play around with filter settings"
   ],
   "cell_type": "markdown",
   "metadata": {}
  },
  {
   "cell_type": "code",
   "execution_count": 117,
   "metadata": {},
   "outputs": [
    {
     "output_type": "display_data",
     "data": {
      "text/plain": "interactive(children=(FloatSlider(value=0.1, description='beta', max=1.0), IntSlider(value=64, description='nu…",
      "application/vnd.jupyter.widget-view+json": {
       "version_major": 2,
       "version_minor": 0,
       "model_id": "6ec69189e1a44b54864e214de35da514"
      }
     },
     "metadata": {}
    },
    {
     "output_type": "display_data",
     "data": {
      "text/plain": "FigureWidget({\n    'data': [{'name': 'original signal',\n              'type': 'scatter',\n              'uid': …",
      "application/vnd.jupyter.widget-view+json": {
       "version_major": 2,
       "version_minor": 0,
       "model_id": "212fcf9459704c81a61094fb1200af5d"
      }
     },
     "metadata": {}
    }
   ],
   "source": [
    "# Script to test the FIR filter.\n",
    "\n",
    "# Global parameters\n",
    "Nb = 100    # Number of buffers\n",
    "Ns = 128\t# Samples in each buffer\n",
    "\n",
    "# Generate filter coefficients\n",
    "# num_taps = 64\n",
    "# beta = 0.1\n",
    "# Ts = 16\n",
    "\n",
    "# _, h_rc = raisedcosinefilter(num_taps, beta, Ts)\n",
    "\n",
    "\n",
    "# Generate some random samples.\n",
    "x = np.random.randn(Ns*Nb)\n",
    "\n",
    "\n",
    "# plt.plot(n,x, n, yb)\n",
    "# plt.plot(yc)\n",
    "\n",
    "fig = go.FigureWidget()\n",
    "fig.update_layout(title_text=\"freq\")\n",
    "fig.add_scatter(name = \"original signal\")\n",
    "fig.add_scatter(name = \"convolution\")\n",
    "fig.add_scatter(name = \"dsp ish method\")\n",
    "\n",
    "\n",
    "@interact (beta = (0,1,0.1), num_taps = (64,128, 8), Ts = (1,16,1))\n",
    "\n",
    "def update(beta = 0.1, num_taps = 64, Ts = 16):\n",
    "\n",
    "    _, h_rc = raisedcosinefilter(num_taps, beta, Ts)\n",
    "    # simple convolution\n",
    "    yc = np.convolve(x, h_rc) \n",
    "\n",
    "\n",
    "    # DSP like FIR filter \n",
    "    state_fir = FIRfilter(h_rc, Ns)\n",
    "    xb = np.reshape(x, (Nb, Ns))\n",
    "    yb = np.zeros((Nb, Ns))\n",
    "    for j in range (Nb):\n",
    "        yb[j] = state_fir.fir(xb[j])\n",
    "    yb = np.reshape(yb, Nb*Ns)\n",
    "\n",
    "    n = np.arange(x.size).reshape((Nb*Ns)) # discrete time axis for graph\n",
    "    with fig.batch_update():\n",
    "        fig.data[0].y = abs(fft(x)[:Nb*Ns//2])\n",
    "        fig.data[1].y = abs(fft(yc)[:Nb*Ns//2])\n",
    "        fig.data[2].y = abs(fft(yb)[:Nb*Ns//2])\n",
    "fig"
   ]
  },
  {
   "cell_type": "code",
   "execution_count": 5,
   "metadata": {},
   "outputs": [
    {
     "output_type": "display_data",
     "data": {
      "text/plain": "interactive(children=(FloatSlider(value=0.1, description='beta', max=1.0), IntSlider(value=50, description='nu…",
      "application/vnd.jupyter.widget-view+json": {
       "version_major": 2,
       "version_minor": 0,
       "model_id": "9f46289d8bdf448ca71d3a04988a6058"
      }
     },
     "metadata": {}
    },
    {
     "output_type": "display_data",
     "data": {
      "text/plain": "FigureWidget({\n    'data': [{'name': 'original signal',\n              'type': 'scatter',\n              'uid': …",
      "application/vnd.jupyter.widget-view+json": {
       "version_major": 2,
       "version_minor": 0,
       "model_id": "f2072ec54c184883b21ca60182ace0ad"
      }
     },
     "metadata": {}
    }
   ],
   "source": [
    "x = np.array([1,1,0,1,0,0,0,1,1,0,1,0,1,0,0,0,1,0,0,1]).repeat(8)\n",
    "\n",
    "n = np.arange(x.size)\n",
    "\n",
    "fig = go.FigureWidget()\n",
    "fig.update_layout(title_text=\"freq\")\n",
    "fig.add_scatter(name = \"original signal\")\n",
    "fig.add_scatter(name = \"convolution\")\n",
    "fig.add_scatter(name = \"dsp ish method\")\n",
    "\n",
    "\n",
    "@interact (beta = (0,1,0.1), num_taps = (50,128, 8), Ts = (1,16,1))\n",
    "\n",
    "def update(beta = 0.1, num_taps = 50, Ts = 8):\n",
    "\n",
    "    _, h_rc = raisedcosinefilter(num_taps, beta, Ts)\n",
    "    # simple convolution\n",
    "    yc = np.convolve(x, h_rc) \n",
    "\n",
    "\n",
    "    # DSP like FIR filter \n",
    "    state_fir = FIRfilter(h_rc, x.size)\n",
    "    yb = np.zeros(x.size)\n",
    "    yb = state_fir.fir(x)\n",
    "\n",
    "    with fig.batch_update():\n",
    "        fig.data[0].y = x\n",
    "        fig.data[1].y = yc\n",
    "        fig.data[2].y = yb\n",
    "fig\n",
    "\n",
    "\n",
    "\n",
    "\n"
   ]
  },
  {
   "source": [
    "##### Raised Cosine Filter, filter setting modification"
   ],
   "cell_type": "markdown",
   "metadata": {}
  },
  {
   "cell_type": "code",
   "execution_count": 94,
   "metadata": {},
   "outputs": [
    {
     "output_type": "display_data",
     "data": {
      "text/plain": "interactive(children=(FloatSlider(value=0.1, description='beta', max=1.0), IntSlider(value=64, description='nu…",
      "application/vnd.jupyter.widget-view+json": {
       "version_major": 2,
       "version_minor": 0,
       "model_id": "b272d9718eef4b1bb54a897ae4804204"
      }
     },
     "metadata": {}
    },
    {
     "output_type": "display_data",
     "data": {
      "text/plain": "FigureWidget({\n    'data': [{'mode': 'lines+markers',\n              'type': 'scatter',\n              'uid': '4…",
      "application/vnd.jupyter.widget-view+json": {
       "version_major": 2,
       "version_minor": 0,
       "model_id": "4d02e1fb85214d198ad7741e27444d3b"
      }
     },
     "metadata": {}
    }
   ],
   "source": [
    "fig = make_subplots(rows = 2, cols = 1, subplot_titles=(\"time\", \"freq\"))\n",
    "fig.add_scatter(mode = 'lines+markers',row = 1, col = 1)\n",
    "fig.add_scatter(row = 2, col = 1)\n",
    "fig.layout.update(showlegend=False)\n",
    "figw = go.FigureWidget(fig)\n",
    "\n",
    "@interact (beta = (0,1,0.1), num_taps = (64,128, 8), Ts = (1,16,1))\n",
    "\n",
    "def update(beta = 0.1, num_taps = 64, Ts = 16):\n",
    "    t, h_rc = raisedcosinefilter(num_taps, beta, Ts)\n",
    "    with figw.batch_update():\n",
    "        figw.data[0].x = t\n",
    "        figw.data[0].y = h_rc\n",
    "        figw.data[1].x = np.arange(h_rc.size)[:h_rc.size//2]\n",
    "        figw.data[1].y = abs(fft(h_rc))[:h_rc.size//2]\n",
    "figw"
   ]
  }
 ]
}
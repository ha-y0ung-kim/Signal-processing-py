{
 "metadata": {
  "language_info": {
   "codemirror_mode": {
    "name": "ipython",
    "version": 3
   },
   "file_extension": ".py",
   "mimetype": "text/x-python",
   "name": "python",
   "nbconvert_exporter": "python",
   "pygments_lexer": "ipython3",
   "version": "3.8.5"
  },
  "orig_nbformat": 2,
  "kernelspec": {
   "name": "python3",
   "display_name": "Python 3.8.5 64-bit ('base': conda)"
  },
  "interpreter": {
   "hash": "eafa80b47addfddec86265f8982eee525bcb336cff89cfda0837fcc7f650d920"
  }
 },
 "nbformat": 4,
 "nbformat_minor": 2,
 "cells": [
  {
   "cell_type": "code",
   "execution_count": 1,
   "source": [
    "import math\n",
    "import numpy as np\n",
    "import matplotlib.pyplot as plt\n",
    "import plotly.graph_objects as go\n",
    "import plotly.express as px\n",
    "from plotly.subplots import make_subplots\n",
    "\n",
    "from ipywidgets import interact\n",
    "import ipywidgets as widgets"
   ],
   "outputs": [],
   "metadata": {}
  },
  {
   "cell_type": "code",
   "execution_count": 2,
   "source": [
    "# Generate N random integer in range [0,10]\n",
    "N = 100\n",
    "x = np.zeros(N)\n",
    "for i in range(N):\n",
    "    x[i] = np.random.randint(0,10)\n",
    "xhis, _= np.histogram(x)\n",
    "\n",
    "fig = make_subplots(rows = 2, cols = 1, subplot_titles=(\"original\", \"original\", \"avfreq\"))\n",
    "\n",
    "fig.update_layout(title_text=\"CLT\")\n",
    "\n",
    "fig.add_trace(go.Bar(\n",
    "    y = xhis), \n",
    "    row = 1, col = 1)\n",
    "fig.add_scatter(mode = \"markers+lines\", row = 2, col = 1)\n",
    "\n",
    "figw = go.FigureWidget(fig)\n",
    "\n",
    "@interact (n = (1, 100, 10), k = (1, 10000,10)) #n : number of sample taken from x, k = repeat\n",
    "def update(n = 100, k = 10000):\n",
    "    av = np.zeros(k)\n",
    "    xx = np.arange(0,k,1)\n",
    "    for i in range(k):\n",
    "        A = np.random.choice(x, n)\n",
    "        av[i] = np.average(A)\n",
    "        \n",
    "    kk, xx = np.histogram(av)\n",
    "    with figw.batch_update():\n",
    "        figw.data[1].x = xx[:xx.size-1]\n",
    "        figw.data[1].y = kk\n",
    "figw\n"
   ],
   "outputs": [],
   "metadata": {}
  },
  {
   "cell_type": "code",
   "execution_count": null,
   "source": [],
   "outputs": [],
   "metadata": {}
  }
 ]
}
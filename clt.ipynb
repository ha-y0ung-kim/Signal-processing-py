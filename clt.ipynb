{
 "metadata": {
  "language_info": {
   "codemirror_mode": {
    "name": "ipython",
    "version": 3
   },
   "file_extension": ".py",
   "mimetype": "text/x-python",
   "name": "python",
   "nbconvert_exporter": "python",
   "pygments_lexer": "ipython3",
   "version": "3.8.5"
  },
  "orig_nbformat": 2,
  "kernelspec": {
   "name": "python3",
   "display_name": "Python 3",
   "language": "python"
  }
 },
 "nbformat": 4,
 "nbformat_minor": 2,
 "cells": [
  {
   "cell_type": "code",
   "execution_count": 1,
   "metadata": {},
   "outputs": [],
   "source": [
    "import math\n",
    "import numpy as np\n",
    "import matplotlib.pyplot as plt\n",
    "import plotly.graph_objects as go\n",
    "import plotly.express as px\n",
    "from plotly.subplots import make_subplots\n",
    "\n",
    "from ipywidgets import interact\n",
    "import ipywidgets as widgets"
   ]
  },
  {
   "cell_type": "code",
   "execution_count": 8,
   "metadata": {},
   "outputs": [
    {
     "output_type": "display_data",
     "data": {
      "text/plain": "interactive(children=(IntSlider(value=100, description='n', min=1, step=10), IntSlider(value=10000, descriptio…",
      "application/vnd.jupyter.widget-view+json": {
       "version_major": 2,
       "version_minor": 0,
       "model_id": "ea8e485327fe4d698e11f8f688fd8203"
      }
     },
     "metadata": {}
    },
    {
     "output_type": "display_data",
     "data": {
      "text/plain": "FigureWidget({\n    'data': [{'type': 'bar',\n              'uid': 'd550d035-0ea2-4240-8db9-d46999ff745d',\n     …",
      "application/vnd.jupyter.widget-view+json": {
       "version_major": 2,
       "version_minor": 0,
       "model_id": "5418dd07bd7045b78129717a397cc172"
      }
     },
     "metadata": {}
    }
   ],
   "source": [
    "# Generate N random integer in range [0,10]\n",
    "N = 100\n",
    "x = np.zeros(N)\n",
    "for i in range(N):\n",
    "    x[i] = np.random.randint(0,10)\n",
    "xhis, _= np.histogram(x)\n",
    "\n",
    "fig = make_subplots(rows = 2, cols = 1, subplot_titles=(\"original\", \"original\", \"avfreq\"))\n",
    "\n",
    "fig.update_layout(title_text=\"CLT\")\n",
    "\n",
    "fig.add_trace(go.Bar(\n",
    "    y = xhis), \n",
    "    row = 1, col = 1)\n",
    "fig.add_scatter(mode = \"markers+lines\", row = 2, col = 1)\n",
    "\n",
    "figw = go.FigureWidget(fig)\n",
    "\n",
    "@interact (n = (1, 100, 10), k = (1, 10000,10)) #n : number of sample taken from x, k = repeat\n",
    "def update(n = 100, k = 10000):\n",
    "    av = np.zeros(k)\n",
    "    xx = np.arange(0,k,1)\n",
    "    for i in range(k):\n",
    "        A = np.random.choice(x, n)\n",
    "        av[i] = np.average(A)\n",
    "        \n",
    "    kk, xx = np.histogram(av)\n",
    "    with figw.batch_update():\n",
    "        figw.data[1].x = xx[:xx.size-1]\n",
    "        figw.data[1].y = kk\n",
    "figw\n"
   ]
  },
  {
   "cell_type": "code",
   "execution_count": null,
   "metadata": {},
   "outputs": [],
   "source": []
  }
 ]
}
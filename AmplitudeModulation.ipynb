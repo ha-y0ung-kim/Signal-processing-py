{
 "metadata": {
  "language_info": {
   "codemirror_mode": {
    "name": "ipython",
    "version": 3
   },
   "file_extension": ".py",
   "mimetype": "text/x-python",
   "name": "python",
   "nbconvert_exporter": "python",
   "pygments_lexer": "ipython3",
   "version": "3.8.5"
  },
  "orig_nbformat": 2,
  "kernelspec": {
   "name": "python3",
   "display_name": "Python 3",
   "language": "python"
  }
 },
 "nbformat": 4,
 "nbformat_minor": 2,
 "cells": [
  {
   "cell_type": "code",
   "execution_count": 1,
   "metadata": {},
   "outputs": [],
   "source": [
    "import math\n",
    "import numpy as np\n",
    "import matplotlib.pyplot as plt\n",
    "import plotly.graph_objects as go\n",
    "from plotly.subplots import make_subplots\n",
    "\n",
    "from commpy.filters import rcosfilter\n",
    "from scipy import signal\n",
    "from scipy.fft import fft, fftfreq\n",
    "\n",
    "from ipywidgets import interact\n",
    "import ipywidgets as widgets"
   ]
  },
  {
   "cell_type": "code",
   "execution_count": 2,
   "metadata": {},
   "outputs": [
    {
     "output_type": "display_data",
     "data": {
      "text/plain": "FigureWidget({\n    'data': [{'mode': 'lines',\n              'name': 'message signal',\n              'type': 's…",
      "application/vnd.jupyter.widget-view+json": {
       "version_major": 2,
       "version_minor": 0,
       "model_id": "5dd4ad09cf1d4ecbab1cc0f080a3429c"
      }
     },
     "metadata": {}
    }
   ],
   "source": [
    "# Signal setting & Amplitude Modulation\n",
    "\n",
    "fc = 20*10**3   #carrier signal frequency of 20kHz\n",
    "\n",
    "fs = 2**(math.ceil(np.log2(fc))+2) # sampling frequency, power of 2 that is higer than 2*fc\n",
    "t = np.linspace(0,1,fs)  \n",
    "f = fftfreq(fs, 1/fs)\n",
    "\n",
    "# Carrier signal\n",
    "Ac = 5 # Amplitude\n",
    "xc = Ac * np.cos(2 * np.pi * fc * t) # carrier signal\n",
    "xc_f = abs(fft(xc))/xc.size #Fourier transform / freq domain\n",
    "\n",
    "# Message signal\n",
    "fm = 500 # modulation signal frequency 500 Hz\n",
    "m = 0.5 # modulation index 50% (Normalized so that the amplitude doesn't exceed 1)\n",
    "xm = m*np.cos(2* np.pi * fm * t) \n",
    "xm_f = abs(fft(xm))/xm.size \n",
    "\n",
    "# Modulated signal\n",
    "y = (1+xm)*xc\n",
    "y_f = abs(fft(y))/y.size\n",
    "\n",
    "\n",
    "fig = make_subplots(rows = 3, cols = 2, specs=[[{\"rowspan\": 3},{}],[None, {}],[None, {}]],subplot_titles=(\"time\", \"freq\"))\n",
    "fig.update_layout(title=\"Amplitude Modulation\")\n",
    "fig.add_scatter(x = t, y = xm, name = \"message signal\", mode = 'lines',row = 1, col = 1)\n",
    "fig.add_scatter(x = t, y = xc, name = \"carrier signal\", mode = 'lines',row = 1, col = 1)\n",
    "fig.add_scatter(x = t, y = y, name = \"modulated signal\", mode = 'lines',row = 1, col = 1)\n",
    "\n",
    "fig.add_scatter(x = f, y = xc_f, name = \"carrier signal\", row = 1, col = 2)\n",
    "fig.add_scatter(x = f, y = xm_f,name = \"message signal\", row = 2, col = 2)\n",
    "fig.add_scatter(x = f, y = y_f, name = \"modulated signal\", row = 3, col = 2)\n",
    "\n",
    "fig.update_xaxes(range=[0, 0.005], row =1, col = 1)\n",
    "fig.update_xaxes(range=[-40000, 40000], row =1, col = 2)\n",
    "fig.update_xaxes(range=[-40000, 40000], row =2, col = 2)\n",
    "fig.update_xaxes(range=[-40000, 40000], row =3, col = 2)\n",
    "figw = go.FigureWidget(fig)\n",
    "figw\n",
    "\n"
   ]
  },
  {
   "cell_type": "code",
   "execution_count": 3,
   "metadata": {},
   "outputs": [
    {
     "output_type": "display_data",
     "data": {
      "text/plain": "FigureWidget({\n    'data': [{'name': 'butterworth filter of oder1',\n              'type': 'scatter',\n         …",
      "application/vnd.jupyter.widget-view+json": {
       "version_major": 2,
       "version_minor": 0,
       "model_id": "ba611206d3c24bf69b681537bdfe1940"
      }
     },
     "metadata": {}
    }
   ],
   "source": [
    "# Butterworth Lowpass Filter\n",
    "\n",
    "fc_filt = 1000 # cutoff frequency of filter\n",
    "\n",
    "fig = make_subplots(rows = 1, cols = 2, subplot_titles=('mag', 'phase'))\n",
    "\n",
    "butter = [] #butterworth filter coefficients\n",
    "\n",
    "fig.update_xaxes(type=\"log\", row = 1, col = 1)\n",
    "fig.update_xaxes(type=\"log\",row=1, col = 2)\n",
    "fig.update_layout(title=\"Butterworth lowpass filter\")\n",
    "\n",
    "\"\"\"\n",
    "In the function signal.butter(N, Wn, ... ,fs), Wn is the critical frequency. \n",
    "For digital filters, Wn are in the same units as fs. By default, fs is 2 half-cycles/sample, so these are normalized from 0 to 1, where 1 is the Nyquist frequency. (Wn is thus in half-cycles / sample.)\n",
    "\"\"\"\n",
    "\n",
    "\n",
    "for Nfilt in range(1, 4, 1):\n",
    "    b, a = signal.butter(Nfilt, fc_filt/(fs/2), 'lowpass', False, 'ba') #divided by fs/2 (nyquist) to match the unit\n",
    "    butter.append([b, a])\n",
    "    w, h = signal.freqz(b,a,fs = fs)\n",
    "    fig.add_scatter(x = w, y = 20*np.log10(abs(h)), name = \"butterworth filter of oder\" + str(Nfilt)  ,row = 1, col = 1)\n",
    "    fig.add_scatter(x = w, y = np.rad2deg(np.unwrap(np.angle(h))), name = \"butterworth filter phase of oder\" + str(Nfilt) , row = 1, col = 2)\n",
    "\n",
    "\n",
    "\n",
    "fig.update_yaxes(range=[-60,10], row =1, col = 1)\n",
    "fig.update_xaxes(range=[0, 4], row =1, col = 1)\n",
    "\n",
    "fig.update_xaxes(range=[0, 4.5], row =1, col = 2)\n",
    "fig.update_yaxes(range=[-300, 0], row =1, col = 2)\n",
    "\n",
    "figw = go.FigureWidget(fig)\n",
    "\n",
    "figw"
   ]
  },
  {
   "cell_type": "code",
   "execution_count": 4,
   "metadata": {},
   "outputs": [
    {
     "output_type": "display_data",
     "data": {
      "text/plain": "FigureWidget({\n    'data': [{'mode': 'lines',\n              'name': 'message signal',\n              'type': 's…",
      "application/vnd.jupyter.widget-view+json": {
       "version_major": 2,
       "version_minor": 0,
       "model_id": "596eaee2cb574ed0be69df64fe3ddd1b"
      }
     },
     "metadata": {}
    }
   ],
   "source": [
    "# Demodulation\n",
    "\n",
    "yr = abs(y) # rectified signal\n",
    "\n",
    "fig = go.FigureWidget()\n",
    "fig.update_layout(title=\"Demodulation\")\n",
    "fig.add_scatter(x = t, y = xm, name = \"message signal\", mode = 'lines')\n",
    "\n",
    "yfilt = []\n",
    "for i in range(3):\n",
    "    filteredsignal = signal.lfilter(butter[i][0],butter[i][1], yr) #demodulation\n",
    "    yfilt.append(filteredsignal)\n",
    "    fig.add_scatter(x = t, y = yfilt[i], name = \"filtered with LPfilter oder\" + str(i+1), mode = 'lines')\n",
    "\n",
    "\n",
    "fig.update_xaxes(range=[0, 0.005])\n",
    "fig\n"
   ]
  },
  {
   "source": [
    "Higer oder filter gives better reconstruction of the original signal. <br>\n",
    "It has less noise <br>\n",
    "However, creates a delay"
   ],
   "cell_type": "markdown",
   "metadata": {}
  }
 ]
}
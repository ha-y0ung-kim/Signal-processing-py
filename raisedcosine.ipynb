{
 "metadata": {
  "language_info": {
   "codemirror_mode": {
    "name": "ipython",
    "version": 3
   },
   "file_extension": ".py",
   "mimetype": "text/x-python",
   "name": "python",
   "nbconvert_exporter": "python",
   "pygments_lexer": "ipython3",
   "version": "3.8.5"
  },
  "orig_nbformat": 2,
  "kernelspec": {
   "name": "python3",
   "display_name": "Python 3",
   "language": "python"
  }
 },
 "nbformat": 4,
 "nbformat_minor": 2,
 "cells": [
  {
   "source": [
    "### Raised cosine filter\n",
    "\n",
    "LP filter \n",
    "\n",
    "$$h(t) = \\frac{1}{T}sinc(\\frac{t}{T})\\frac{cos(\\frac{\\pi\\beta t}{T})}{1-(\\frac{2 \\beta t}{T})^2}$$"
   ],
   "cell_type": "markdown",
   "metadata": {}
  },
  {
   "cell_type": "code",
   "execution_count": 1,
   "metadata": {},
   "outputs": [],
   "source": [
    "import math\n",
    "import numpy as np\n",
    "import matplotlib.pyplot as plt\n",
    "import plotly.graph_objects as go\n",
    "from plotly.subplots import make_subplots\n",
    "\n",
    "from commpy.filters import rcosfilter\n",
    "from scipy import signal\n",
    "from scipy.fft import fft, fftfreq\n",
    "\n",
    "from ipywidgets import interact\n",
    "import ipywidgets as widgets"
   ]
  },
  {
   "cell_type": "code",
   "execution_count": 2,
   "metadata": {},
   "outputs": [],
   "source": [
    "def raisedcosinefilter(Ntap, beta, Ts):\n",
    "    \"\"\"\n",
    "    create raised cosine filter taps\n",
    "    \n",
    "    Ntap : number of taps\n",
    "    beta : roll off facter\n",
    "    Ts : symbol period\n",
    "\n",
    "    return: filter time range, filter taps\n",
    "    \"\"\"\n",
    "\n",
    "    t = np.arange(-Ntap/2,Ntap/2)\n",
    "    rcfilter = np.sinc(t/Ts) * np.cos(np.pi*beta*t/Ts) / ((1 -(2*beta*t/Ts)**2)*Ts)\n",
    "    return t, rcfilter"
   ]
  },
  {
   "cell_type": "code",
   "execution_count": 8,
   "metadata": {},
   "outputs": [
    {
     "output_type": "display_data",
     "data": {
      "text/plain": "FigureWidget({\n    'data': [{'mode': 'lines+markers',\n              'type': 'scatter',\n              'uid': '3…",
      "application/vnd.jupyter.widget-view+json": {
       "version_major": 2,
       "version_minor": 0,
       "model_id": "e96dfa4acad34130b04286093f677f41"
      }
     },
     "metadata": {}
    }
   ],
   "source": [
    "fig = make_subplots(rows = 2, cols = 1, subplot_titles=(\"time\", \"freq\"))\n",
    "fig.add_scatter(mode = 'lines+markers',row = 1, col = 1)\n",
    "fig.add_scatter(row = 2, col = 1)\n",
    "fig.layout.update(showlegend=False)\n",
    "\n",
    "\n",
    "num_taps = 128\n",
    "Ts = 1\n",
    "beta =  [0, 0.25, 0.5, 1]\n",
    "t = []\n",
    "h_rc = []\n",
    "f = []\n",
    "h_rc_f = []\n",
    "\n",
    "for i in range (4):\n",
    "    t1, h_rc1 = raisedcosinefilter(num_taps, beta[i], Ts)\n",
    "    t.append(t1)\n",
    "    h_rc.append(h_rc1)\n",
    "    f.append(np.arange(h_rc[i].size))\n",
    "    h_rc_f.append(abs(fft(h_rc[i])))\n",
    "    fig.add_scatter(x = t[i], y = h_rc[i], row = 1, col = 1)\n",
    "    #fig.add_scatter(x = f[i], y = h_rc_f[i], row= 2, col = 1)\n",
    "\n",
    "\n",
    "figw = go.FigureWidget(fig)\n",
    "figw"
   ]
  },
  {
   "cell_type": "code",
   "execution_count": null,
   "metadata": {},
   "outputs": [],
   "source": []
  }
 ]
}